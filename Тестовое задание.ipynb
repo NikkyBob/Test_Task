{
 "cells": [
  {
   "cell_type": "markdown",
   "id": "b9adffaf",
   "metadata": {},
   "source": [
    "# Поиск инсайтов по выборке клиентов Сбермаркет"
   ]
  },
  {
   "cell_type": "markdown",
   "id": "16fa2a78",
   "metadata": {},
   "source": [
    "# Содержание\n",
    "- [Отчет о проделанном исследовании](#Отчет-о-проделанном-исследовании)\n",
    "- [Обзор и предобработка данных](#Обзор-и-предобработка-данных)\n",
    "- [Объединение данных](#Объединение-данных)\n",
    "- [Анализ данных](#Анализ-данных)\n",
    "- [Проверка гипотез](#Проверка-гипотез)"
   ]
  },
  {
   "cell_type": "markdown",
   "id": "89844ef6",
   "metadata": {},
   "source": [
    "## Отчет о проделанном исследовании"
   ]
  },
  {
   "cell_type": "markdown",
   "id": "fae745dd",
   "metadata": {},
   "source": [
    "### Задание №1"
   ]
  },
  {
   "cell_type": "markdown",
   "id": "0457ab4d",
   "metadata": {},
   "source": [
    "Основные метрики для предоставления CEO:\n",
    "- **AOV**, так как он отражает заработок сервиса с пользователя за покупку и через него можно проанализировать поведение покупателей на площадке и основные тренды.\n",
    "- **DAU**, наглядно отразит заинтересованность пользователей в сервисе и их ежедневную востребованность в нем.\n",
    "- **CR** на всех этапах продуктовой воронки, так как это позволит прозрачно оценить все стадии продажи и найти наиболее узкие места.\n",
    "- **CPA** в разбивке по каналам, так как необходимо представить сколько тратит компания на привлечение одного пользователя и какие маркетинговые каналы или стратегию в целом лучше скорректировать.\n",
    "- **NPS**, для бизнеса важно мониторить степень удовлетворенности сервисом и вовремя работать над определением причин спада этого индикатора."
   ]
  },
  {
   "cell_type": "markdown",
   "id": "04d80d98",
   "metadata": {},
   "source": [
    "### Задание №2"
   ]
  },
  {
   "cell_type": "markdown",
   "id": "3575e616",
   "metadata": {},
   "source": [
    "По итогам исследования были сформированы тезисы, представленные ниже. Аналитическое и графическое обоснование тезисов также представлено в этом файле.  \n",
    "**- Основные показатели**\n",
    "1. GMV сервиса показал перманентно возрастающую динамику, увеличившись за 2019 год почти в 6 раз относительно предыдущего. Ежеквартальный рост колебался от 108 до 179 процентов. Т.е. по одному из ключевых параметров можно сказать, что сервис продолжает стремительно наращивать объемы продаж.\n",
    "2. Исследована диверсификация со стороны спроса. После расчета концентрации GMV было выявлено, что 20% самой платящей аудитории участвуют в обороте 68% объема всех продаж. Это, повторюсь, дает повод предположить, что существенной потери ликвидности в случае, если кто-то из этих 20% уйдет с маркетплейса не ожидается.\n",
    "3. Показатель среднего чека составляет 4700 рублей (в Москве-5500, в регионах - 3900). Было также определено, что в Москве в среднем большие объемы заказа ввиду большей покупательской способности, поэтому можно предположить что сами товары в корзинах покупателей из Мск и регионов примерно схожи.\n",
    "4. Также была определена средняя цена единицы продукции - 112 рублей. При этом, отмечена немалая волатильность этой цены +/- 5 рублей. Самый заметный спад цены был зафиксирован в начале 2019 года, связанный с активным выходом Сбермаркет на региональный рынок. Последующий рост цены является следствием колебаний на фоне инфляции.\n",
    "5. Показатель активных пользователей по неделям и месяцам также росли на протяжении всего целевого периода с, однако, заметным спадом в конце 2019 года. Коэффициент 'привязываемости' равен 33.3%. Такой результат является довольно успешным и отражает положительную динамику ежемесячных клиентов, которые взаимодействуют с продуктом в течение каждой недели.\n",
    "6. Также была определена метрика LTV. В среднем активный покупатель живет с сервисом в течение 4 месяцев и приносит за все время взаимодействия в среднем 28200 рублей. Потенциально лояльная к сервису аудитория, которая превышает средний показатель LTV - 10.5%. На них необходимо направить определённую маркетинговую стратегию.\n",
    "7. Рассчитан некий аналог retention для маркетплейса - RPR, который составил 43.6%. Остальная аудитория не сделала более одной покупки, что,  скорее всего, является индикатором, что покупатели либо не получают необходимую ценность, либо после первого удачного взаимодействия просто “отваливаются” и начинают сотрудничать с поставщиком вне платформы, чтобы не платить комиссию.\n",
    "8. Продолжая анализ лояльности аудитории, было отмечено, что лишь 10% всей аудитории оформили более 6 покупок в сервисе. При этом в месяц средний пользователь совершает 1.5 покупки в Сбермаркет.\n",
    "**- Качество услуг доставки**\n",
    "1. В среднем длительность доставки составляет 11 часов. Однако, этот индикатор никак не отражает действиельную картину. Большинство заказов доставляется в срок до 5 часов, при этом именно эти заказы имеют навивысшый средний чек. Высокий показатель AOV имеют также заказы, доставка которых заняла от 20 часов. Скорее всего, это связано с корпоративным характером заказов. Это приводит к выводу, что акцентировать маркетинговую стратегии необхоимо именно на срочные и корпоративные заказы.\n",
    "2. Однако, не все показатели сервис может занести себе в актив. Одно из наиболее уязвимых мест - доставка заказа в срок. Было определено, что 25% всех заказов доставлены за пределами заявленного слота доставки(18.5 заказов было доставлено слишком поздно, 7.4 - слишком рано). Не менее удручающим фактом является и среднее время задержки или опережения доставки: в среднем - 1 час 15 минут. Было выявлено, что наибольшее количество таких доставок было совершенно из магазинов ритейлера под id №1, в особенности из магазина с id №1. Поэтому, необходимо пересмотреть систему логистики взаимодействия с магазинами этого ритейлера.\n",
    "3. Что касается поставщиков в целом, то количество магазинов, сотрудничающих с Сбермаркет росло на протяжении целевого периода (за исключением нескольких месяцев в начале 2019г), в итоге к концу 2019 года было определено, что за весь приведенный период пропускная способность одного магазина в среднем составляет 3631 покупатель.  \n",
    "**- Проблема отсутствия товаров**\n",
    "1. Проблема замен отсутствующих товаров или их отмена действительно имеет место быть. Среднее количество отсутствующих товаров в одном заказе составляет 11.4%. Это является серьезным недостатком, так как было выявлено, что доля клиентов, оформивших лишь 1 заказ столкнулись с проблемой отсутствия искомого товара в магазине в 72.8% случаев.\n",
    "2. Наконец, был проведен анализ магазинов и ритейлеров с целью выявления наиболее проблемных из них. Наихудшие показатели соотношения объемов продаж и количество ситуаций с отсутствием того или иного товара выявлено в магазинах под id: 1, 10, 9, 68 и 105. Все они принадлежат ритейлеру под id №1.\n",
    "3. Таким образом, решением этой проблемы могут стать: оптимизация приложения (создание ML скрипта сканирующего доступность того или иного товара в режиме реального времени в проблемных магазинах) или пересмотр состава поставщиков с наиболее проблемными точками.\n",
    "**- Проверка гипотез о влиянии промокодов на средний чек и кол-во заказанной продукции**\n",
    "1. С помощью t-теста были определены статистически значимые различия между группами покупателей с промокодами на доставку или на товары в корзине и покупателей без льгот. Пользователи, активирующие промокоды в среднем покупают меньшее количество товаров (и уменьшенный средний чек) в отличии от клиентов без промокодов. Это может навести на мысль, что промокоды в данный момент дейтсвуют больше на охват новой аудитории, а для уже устоявшихся клиентов необходимо сформировать программу лояльности для повышения их среднего чека."
   ]
  },
  {
   "cell_type": "markdown",
   "id": "287f9f39",
   "metadata": {},
   "source": [
    "## Обзор и предобработка данных"
   ]
  },
  {
   "cell_type": "markdown",
   "id": "ef91307a",
   "metadata": {},
   "source": [
    "Все данные взяты из БД PostgreSQL. В целях оптимизации выгрузки запроса, были выгружены лишь необходимые для анализа данные."
   ]
  },
  {
   "cell_type": "markdown",
   "id": "2a407411",
   "metadata": {},
   "source": [
    "Таблицы выгруженные неполностью:  \n",
    "**Cancellations**  \n",
    "<font color='red'>select</font>  \n",
    "\torder_id, count(item_id)   \n",
    "<font color='red'>from</font>  \n",
    "\tcancellations c <font color='red'>right join</font> orders o  \n",
    "\t\t<font color='red'>on</font> c.order_id = o.id   \n",
    "<font color='red'>group by</font>   \n",
    "\torder_id  \n",
    "<font color='red'>order by</font>  \n",
    "\torder_id  \n",
    "    \n",
    "**Replacements**  \n",
    "<font color='red'>select</font>  \n",
    "\torder_id, count(item_id)   \n",
    "<font color='red'>from</font>  \n",
    "\treplacements r <font color='red'>right join</font> orders o   \n",
    "\t\t<font color='red'>on</font> r.order_id = o.id   \n",
    "<font color='red'>group by</font>   \n",
    "\torder_id  \n",
    "<font color='red'>order by</font>  \n",
    "\torder_id  \n",
    "\n",
    "**Addresses**  \n",
    "<font color='red'>select</font>  \n",
    "\ta.id, lat, lon   \n",
    "<font color='red'>from</font>   \n",
    "\taddresses a <font color='red'>right join</font> orders o   \n",
    "\t\t<font color='red'>on</font> a.id = o.ship_address_id"
   ]
  },
  {
   "cell_type": "code",
   "execution_count": 1,
   "id": "ef8ee6e5",
   "metadata": {},
   "outputs": [],
   "source": [
    "import pandas as pd\n",
    "pd.options.mode.chained_assignment = None\n",
    "import matplotlib.pyplot as plt\n",
    "import numpy as np\n",
    "from scipy import stats as st\n",
    "from geopy.geocoders import Nominatim\n",
    "geolocator = Nominatim(user_agent='BuyiXiao')"
   ]
  },
  {
   "cell_type": "code",
   "execution_count": 2,
   "id": "99aefc9f",
   "metadata": {},
   "outputs": [],
   "source": [
    "df_stores = pd.read_csv('C:/Users/Admin/Desktop/Сбермаркет/stores.csv')\n",
    "df_orders = pd.read_csv('C:/Users/Admin/Desktop/Сбермаркет/orders.csv')\n",
    "df_addresses = pd.read_csv('C:/Users/Admin/Desktop/Сбермаркет/addresses.csv')\n",
    "df_delivery = pd.read_csv('C:/Users/Admin/Desktop/Сбермаркет/delivery_windows.csv')\n",
    "df_replacements = pd.read_csv('C:/Users/Admin/Desktop/Сбермаркет/replacements.csv')\n",
    "df_cancellations = pd.read_csv('C:/Users/Admin/Desktop/Сбермаркет/cancellations.csv')"
   ]
  },
  {
   "cell_type": "markdown",
   "id": "65180103",
   "metadata": {},
   "source": [
    "Проверим все датасеты на качество данных."
   ]
  },
  {
   "cell_type": "markdown",
   "id": "248f0988",
   "metadata": {},
   "source": [
    "**df_orders**"
   ]
  },
  {
   "cell_type": "code",
   "execution_count": 3,
   "id": "e35da1c8",
   "metadata": {},
   "outputs": [
    {
     "name": "stdout",
     "output_type": "stream",
     "text": [
      "<class 'pandas.core.frame.DataFrame'>\n",
      "RangeIndex: 720433 entries, 0 to 720432\n",
      "Data columns (total 14 columns):\n",
      " #   Column              Non-Null Count   Dtype  \n",
      "---  ------              --------------   -----  \n",
      " 0   id                  720433 non-null  int64  \n",
      " 1   user_id             720433 non-null  int64  \n",
      " 2   total_cost          720433 non-null  float64\n",
      " 3   cost                720433 non-null  float64\n",
      " 4   item_total          720433 non-null  int64  \n",
      " 5   promo_total         720433 non-null  float64\n",
      " 6   total_weight        720433 non-null  int64  \n",
      " 7   total_quantity      720433 non-null  int64  \n",
      " 8   state               720433 non-null  object \n",
      " 9   shipped_at          720433 non-null  object \n",
      " 10  created_at          720433 non-null  object \n",
      " 11  ship_address_id     720433 non-null  int64  \n",
      " 12  store_id            720433 non-null  int64  \n",
      " 13  delivery_window_id  720433 non-null  int64  \n",
      "dtypes: float64(3), int64(8), object(3)\n",
      "memory usage: 77.0+ MB\n"
     ]
    }
   ],
   "source": [
    "df_orders.info()"
   ]
  },
  {
   "cell_type": "code",
   "execution_count": 4,
   "id": "d7b5af61",
   "metadata": {},
   "outputs": [],
   "source": [
    "# Исправим даты\n",
    "df_orders['created_at'] = pd.to_datetime(df_orders['created_at'], format='%Y-%m-%dT%H:%M:%S')\n",
    "df_orders['shipped_at'] = pd.to_datetime(df_orders['shipped_at'], format='%Y-%m-%dT%H:%M:%S')\n",
    "df_orders = df_orders.rename(columns={'id': 'order_id'})"
   ]
  },
  {
   "cell_type": "markdown",
   "id": "b3e9fad2",
   "metadata": {},
   "source": [
    "**df_addresses**"
   ]
  },
  {
   "cell_type": "code",
   "execution_count": 5,
   "id": "3ce88b49",
   "metadata": {},
   "outputs": [
    {
     "name": "stdout",
     "output_type": "stream",
     "text": [
      "<class 'pandas.core.frame.DataFrame'>\n",
      "RangeIndex: 729993 entries, 0 to 729992\n",
      "Data columns (total 3 columns):\n",
      " #   Column  Non-Null Count   Dtype  \n",
      "---  ------  --------------   -----  \n",
      " 0   id      729947 non-null  float64\n",
      " 1   lat     729947 non-null  float64\n",
      " 2   lon     729947 non-null  float64\n",
      "dtypes: float64(3)\n",
      "memory usage: 16.7 MB\n"
     ]
    }
   ],
   "source": [
    "df_addresses.info()"
   ]
  },
  {
   "cell_type": "code",
   "execution_count": 6,
   "id": "21fcd434",
   "metadata": {},
   "outputs": [],
   "source": [
    "df_addresses = df_addresses.dropna(subset=['id']).drop_duplicates().reset_index(drop=True)\n",
    "df_addresses['id'] = df_addresses['id'].astype('int')\n",
    "df_addresses = df_addresses.rename(columns={'id': 'address_id'})"
   ]
  },
  {
   "cell_type": "markdown",
   "id": "60fa1417",
   "metadata": {},
   "source": [
    "**df_stores**"
   ]
  },
  {
   "cell_type": "code",
   "execution_count": 7,
   "id": "dd91a21f",
   "metadata": {},
   "outputs": [
    {
     "name": "stdout",
     "output_type": "stream",
     "text": [
      "<class 'pandas.core.frame.DataFrame'>\n",
      "RangeIndex: 162 entries, 0 to 161\n",
      "Data columns (total 3 columns):\n",
      " #   Column       Non-Null Count  Dtype\n",
      "---  ------       --------------  -----\n",
      " 0   id           162 non-null    int64\n",
      " 1   city         162 non-null    int64\n",
      " 2   retailer_id  162 non-null    int64\n",
      "dtypes: int64(3)\n",
      "memory usage: 3.9 KB\n"
     ]
    }
   ],
   "source": [
    "df_stores.info()"
   ]
  },
  {
   "cell_type": "code",
   "execution_count": 8,
   "id": "40bcc40f",
   "metadata": {},
   "outputs": [],
   "source": [
    "df_stores = df_stores.rename(columns={'id': 'store_id'})"
   ]
  },
  {
   "cell_type": "markdown",
   "id": "5293b32f",
   "metadata": {},
   "source": [
    "**df_delivery**"
   ]
  },
  {
   "cell_type": "code",
   "execution_count": 9,
   "id": "6753e1bc",
   "metadata": {},
   "outputs": [
    {
     "name": "stdout",
     "output_type": "stream",
     "text": [
      "<class 'pandas.core.frame.DataFrame'>\n",
      "RangeIndex: 204343 entries, 0 to 204342\n",
      "Data columns (total 5 columns):\n",
      " #   Column     Non-Null Count   Dtype \n",
      "---  ------     --------------   ----- \n",
      " 0   store_id   204343 non-null  int64 \n",
      " 1   id         204343 non-null  int64 \n",
      " 2   starts_at  204343 non-null  object\n",
      " 3   ends_at    204343 non-null  object\n",
      " 4   time_zone  204343 non-null  object\n",
      "dtypes: int64(2), object(3)\n",
      "memory usage: 7.8+ MB\n"
     ]
    }
   ],
   "source": [
    "df_delivery.info()"
   ]
  },
  {
   "cell_type": "code",
   "execution_count": 10,
   "id": "1ec04feb",
   "metadata": {},
   "outputs": [],
   "source": [
    "# Приведем к дате\n",
    "df_delivery['starts_at'] = pd.to_datetime(df_delivery['starts_at'], format='%Y-%m-%dT%H:%M:%S')\n",
    "df_delivery['ends_at'] = pd.to_datetime(df_delivery['ends_at'], format='%Y-%m-%dT%H:%M:%S')\n",
    "df_delivery = df_delivery.rename(columns={'id': 'delivery_window_id'})"
   ]
  },
  {
   "cell_type": "markdown",
   "id": "7de532f4",
   "metadata": {},
   "source": [
    "**df_replacements**"
   ]
  },
  {
   "cell_type": "code",
   "execution_count": 11,
   "id": "b04c05cc",
   "metadata": {},
   "outputs": [
    {
     "name": "stdout",
     "output_type": "stream",
     "text": [
      "<class 'pandas.core.frame.DataFrame'>\n",
      "RangeIndex: 414693 entries, 0 to 414692\n",
      "Data columns (total 2 columns):\n",
      " #   Column    Non-Null Count   Dtype\n",
      "---  ------    --------------   -----\n",
      " 0   order_id  414693 non-null  int64\n",
      " 1   count     414693 non-null  int64\n",
      "dtypes: int64(2)\n",
      "memory usage: 6.3 MB\n"
     ]
    }
   ],
   "source": [
    "df_replacements.info()"
   ]
  },
  {
   "cell_type": "code",
   "execution_count": 12,
   "id": "20ef7d78",
   "metadata": {},
   "outputs": [],
   "source": [
    "df_replacements = df_replacements.rename(columns={'count': 'replacements_count'})"
   ]
  },
  {
   "cell_type": "markdown",
   "id": "3fb2be7b",
   "metadata": {},
   "source": [
    "**df_cancellations**"
   ]
  },
  {
   "cell_type": "code",
   "execution_count": 13,
   "id": "14e48ac5",
   "metadata": {},
   "outputs": [
    {
     "name": "stdout",
     "output_type": "stream",
     "text": [
      "<class 'pandas.core.frame.DataFrame'>\n",
      "RangeIndex: 443532 entries, 0 to 443531\n",
      "Data columns (total 2 columns):\n",
      " #   Column    Non-Null Count   Dtype\n",
      "---  ------    --------------   -----\n",
      " 0   order_id  443532 non-null  int64\n",
      " 1   count     443532 non-null  int64\n",
      "dtypes: int64(2)\n",
      "memory usage: 6.8 MB\n"
     ]
    }
   ],
   "source": [
    "df_cancellations.info()"
   ]
  },
  {
   "cell_type": "code",
   "execution_count": 14,
   "id": "2a856bad",
   "metadata": {},
   "outputs": [],
   "source": [
    "df_cancellations = df_cancellations.rename(columns={'count': 'cancellations_count'})"
   ]
  },
  {
   "cell_type": "markdown",
   "id": "7df79c68",
   "metadata": {},
   "source": [
    "## Объединение данных"
   ]
  },
  {
   "cell_type": "markdown",
   "id": "234e7eb9",
   "metadata": {},
   "source": [
    "Для анализа объединим все полученные данные в один датасет."
   ]
  },
  {
   "cell_type": "code",
   "execution_count": 15,
   "id": "eb4aed8b",
   "metadata": {},
   "outputs": [
    {
     "name": "stdout",
     "output_type": "stream",
     "text": [
      "<class 'pandas.core.frame.DataFrame'>\n",
      "Int64Index: 720433 entries, 0 to 720432\n",
      "Data columns (total 23 columns):\n",
      " #   Column               Non-Null Count   Dtype         \n",
      "---  ------               --------------   -----         \n",
      " 0   order_id             720433 non-null  int64         \n",
      " 1   user_id              720433 non-null  int64         \n",
      " 2   total_cost           720433 non-null  float64       \n",
      " 3   cost                 720433 non-null  float64       \n",
      " 4   item_total           720433 non-null  int64         \n",
      " 5   promo_total          720433 non-null  float64       \n",
      " 6   total_weight         720433 non-null  int64         \n",
      " 7   total_quantity       720433 non-null  int64         \n",
      " 8   state                720433 non-null  object        \n",
      " 9   shipped_at           720433 non-null  datetime64[ns]\n",
      " 10  created_at           720433 non-null  datetime64[ns]\n",
      " 11  ship_address_id      720433 non-null  int64         \n",
      " 12  store_id             720433 non-null  int64         \n",
      " 13  delivery_window_id   720433 non-null  int64         \n",
      " 14  lat                  720387 non-null  float64       \n",
      " 15  lon                  720387 non-null  float64       \n",
      " 16  city                 720433 non-null  int64         \n",
      " 17  retailer_id          720433 non-null  int64         \n",
      " 18  starts_at            720429 non-null  datetime64[ns]\n",
      " 19  ends_at              720429 non-null  datetime64[ns]\n",
      " 20  time_zone            720429 non-null  object        \n",
      " 21  replacements_count   414693 non-null  Int64         \n",
      " 22  cancellations_count  443532 non-null  Int64         \n",
      "dtypes: Int64(2), datetime64[ns](4), float64(5), int64(10), object(2)\n",
      "memory usage: 133.3+ MB\n"
     ]
    },
    {
     "data": {
      "text/html": [
       "<div>\n",
       "<style scoped>\n",
       "    .dataframe tbody tr th:only-of-type {\n",
       "        vertical-align: middle;\n",
       "    }\n",
       "\n",
       "    .dataframe tbody tr th {\n",
       "        vertical-align: top;\n",
       "    }\n",
       "\n",
       "    .dataframe thead th {\n",
       "        text-align: right;\n",
       "    }\n",
       "</style>\n",
       "<table border=\"1\" class=\"dataframe\">\n",
       "  <thead>\n",
       "    <tr style=\"text-align: right;\">\n",
       "      <th></th>\n",
       "      <th>order_id</th>\n",
       "      <th>user_id</th>\n",
       "      <th>total_cost</th>\n",
       "      <th>cost</th>\n",
       "      <th>item_total</th>\n",
       "      <th>promo_total</th>\n",
       "      <th>total_weight</th>\n",
       "      <th>total_quantity</th>\n",
       "      <th>state</th>\n",
       "      <th>shipped_at</th>\n",
       "      <th>...</th>\n",
       "      <th>delivery_window_id</th>\n",
       "      <th>lat</th>\n",
       "      <th>lon</th>\n",
       "      <th>city</th>\n",
       "      <th>retailer_id</th>\n",
       "      <th>starts_at</th>\n",
       "      <th>ends_at</th>\n",
       "      <th>time_zone</th>\n",
       "      <th>replacements_count</th>\n",
       "      <th>cancellations_count</th>\n",
       "    </tr>\n",
       "  </thead>\n",
       "  <tbody>\n",
       "    <tr>\n",
       "      <th>0</th>\n",
       "      <td>756927</td>\n",
       "      <td>139676</td>\n",
       "      <td>0.0</td>\n",
       "      <td>0.0</td>\n",
       "      <td>5015</td>\n",
       "      <td>0.0</td>\n",
       "      <td>37708</td>\n",
       "      <td>39</td>\n",
       "      <td>shipped</td>\n",
       "      <td>2018-08-26 15:01:42</td>\n",
       "      <td>...</td>\n",
       "      <td>226459</td>\n",
       "      <td>55.855683</td>\n",
       "      <td>37.644165</td>\n",
       "      <td>1</td>\n",
       "      <td>1</td>\n",
       "      <td>2018-08-26 14:00:00</td>\n",
       "      <td>2018-08-26 16:00:00</td>\n",
       "      <td>Europe/Moscow</td>\n",
       "      <td>&lt;NA&gt;</td>\n",
       "      <td>8</td>\n",
       "    </tr>\n",
       "    <tr>\n",
       "      <th>1</th>\n",
       "      <td>756963</td>\n",
       "      <td>139682</td>\n",
       "      <td>0.0</td>\n",
       "      <td>0.0</td>\n",
       "      <td>7096</td>\n",
       "      <td>0.0</td>\n",
       "      <td>49435</td>\n",
       "      <td>71</td>\n",
       "      <td>shipped</td>\n",
       "      <td>2018-08-26 16:28:41</td>\n",
       "      <td>...</td>\n",
       "      <td>226460</td>\n",
       "      <td>55.858791</td>\n",
       "      <td>37.638656</td>\n",
       "      <td>1</td>\n",
       "      <td>1</td>\n",
       "      <td>2018-08-26 15:00:00</td>\n",
       "      <td>2018-08-26 17:00:00</td>\n",
       "      <td>Europe/Moscow</td>\n",
       "      <td>&lt;NA&gt;</td>\n",
       "      <td>9</td>\n",
       "    </tr>\n",
       "    <tr>\n",
       "      <th>2</th>\n",
       "      <td>756983</td>\n",
       "      <td>63967</td>\n",
       "      <td>299.0</td>\n",
       "      <td>299.0</td>\n",
       "      <td>2724</td>\n",
       "      <td>-250.0</td>\n",
       "      <td>11590</td>\n",
       "      <td>32</td>\n",
       "      <td>shipped</td>\n",
       "      <td>2018-08-26 15:09:11</td>\n",
       "      <td>...</td>\n",
       "      <td>226459</td>\n",
       "      <td>55.890288</td>\n",
       "      <td>37.612822</td>\n",
       "      <td>1</td>\n",
       "      <td>1</td>\n",
       "      <td>2018-08-26 14:00:00</td>\n",
       "      <td>2018-08-26 16:00:00</td>\n",
       "      <td>Europe/Moscow</td>\n",
       "      <td>&lt;NA&gt;</td>\n",
       "      <td>4</td>\n",
       "    </tr>\n",
       "    <tr>\n",
       "      <th>3</th>\n",
       "      <td>756985</td>\n",
       "      <td>139687</td>\n",
       "      <td>0.0</td>\n",
       "      <td>0.0</td>\n",
       "      <td>3471</td>\n",
       "      <td>0.0</td>\n",
       "      <td>9915</td>\n",
       "      <td>13</td>\n",
       "      <td>shipped</td>\n",
       "      <td>2018-08-26 18:57:01</td>\n",
       "      <td>...</td>\n",
       "      <td>226462</td>\n",
       "      <td>55.878475</td>\n",
       "      <td>37.620050</td>\n",
       "      <td>1</td>\n",
       "      <td>1</td>\n",
       "      <td>2018-08-26 17:00:00</td>\n",
       "      <td>2018-08-26 19:00:00</td>\n",
       "      <td>Europe/Moscow</td>\n",
       "      <td>3</td>\n",
       "      <td>1</td>\n",
       "    </tr>\n",
       "    <tr>\n",
       "      <th>4</th>\n",
       "      <td>757066</td>\n",
       "      <td>119006</td>\n",
       "      <td>299.0</td>\n",
       "      <td>299.0</td>\n",
       "      <td>1254</td>\n",
       "      <td>0.0</td>\n",
       "      <td>15022</td>\n",
       "      <td>24</td>\n",
       "      <td>shipped</td>\n",
       "      <td>2018-08-26 13:46:48</td>\n",
       "      <td>...</td>\n",
       "      <td>226458</td>\n",
       "      <td>55.825067</td>\n",
       "      <td>37.621798</td>\n",
       "      <td>1</td>\n",
       "      <td>1</td>\n",
       "      <td>2018-08-26 13:00:00</td>\n",
       "      <td>2018-08-26 15:00:00</td>\n",
       "      <td>Europe/Moscow</td>\n",
       "      <td>4</td>\n",
       "      <td>2</td>\n",
       "    </tr>\n",
       "  </tbody>\n",
       "</table>\n",
       "<p>5 rows × 23 columns</p>\n",
       "</div>"
      ],
      "text/plain": [
       "   order_id  user_id  total_cost   cost  item_total  promo_total  \\\n",
       "0    756927   139676         0.0    0.0        5015          0.0   \n",
       "1    756963   139682         0.0    0.0        7096          0.0   \n",
       "2    756983    63967       299.0  299.0        2724       -250.0   \n",
       "3    756985   139687         0.0    0.0        3471          0.0   \n",
       "4    757066   119006       299.0  299.0        1254          0.0   \n",
       "\n",
       "   total_weight  total_quantity    state          shipped_at  ...  \\\n",
       "0         37708              39  shipped 2018-08-26 15:01:42  ...   \n",
       "1         49435              71  shipped 2018-08-26 16:28:41  ...   \n",
       "2         11590              32  shipped 2018-08-26 15:09:11  ...   \n",
       "3          9915              13  shipped 2018-08-26 18:57:01  ...   \n",
       "4         15022              24  shipped 2018-08-26 13:46:48  ...   \n",
       "\n",
       "  delivery_window_id        lat        lon  city  retailer_id  \\\n",
       "0             226459  55.855683  37.644165     1            1   \n",
       "1             226460  55.858791  37.638656     1            1   \n",
       "2             226459  55.890288  37.612822     1            1   \n",
       "3             226462  55.878475  37.620050     1            1   \n",
       "4             226458  55.825067  37.621798     1            1   \n",
       "\n",
       "            starts_at             ends_at      time_zone replacements_count  \\\n",
       "0 2018-08-26 14:00:00 2018-08-26 16:00:00  Europe/Moscow               <NA>   \n",
       "1 2018-08-26 15:00:00 2018-08-26 17:00:00  Europe/Moscow               <NA>   \n",
       "2 2018-08-26 14:00:00 2018-08-26 16:00:00  Europe/Moscow               <NA>   \n",
       "3 2018-08-26 17:00:00 2018-08-26 19:00:00  Europe/Moscow                  3   \n",
       "4 2018-08-26 13:00:00 2018-08-26 15:00:00  Europe/Moscow                  4   \n",
       "\n",
       "  cancellations_count  \n",
       "0                   8  \n",
       "1                   9  \n",
       "2                   4  \n",
       "3                   1  \n",
       "4                   2  \n",
       "\n",
       "[5 rows x 23 columns]"
      ]
     },
     "execution_count": 15,
     "metadata": {},
     "output_type": "execute_result"
    }
   ],
   "source": [
    "df = df_orders.merge(\n",
    "    df_addresses, how='left', left_on='ship_address_id', right_on='address_id').merge(\n",
    "        df_stores, how='left', on='store_id').merge(\n",
    "            df_delivery, how='left', on=['store_id', 'delivery_window_id']).merge(\n",
    "                df_replacements, how='left', on='order_id').merge(\n",
    "                    df_cancellations, how='left', on='order_id')\n",
    "del df['address_id']\n",
    "df[['replacements_count', 'cancellations_count']] = df[['replacements_count', 'cancellations_count']].astype('Int64')\n",
    "df.info()\n",
    "df.head()"
   ]
  },
  {
   "cell_type": "markdown",
   "id": "e04684fd",
   "metadata": {},
   "source": [
    "Для последующих помесячных исследований добавим столбцы с месяцами, днями и неделями оформления заказа."
   ]
  },
  {
   "cell_type": "code",
   "execution_count": 16,
   "id": "d979fa72",
   "metadata": {},
   "outputs": [],
   "source": [
    "df['created_order_month'] = df['created_at'].map(lambda x: x.strftime('%Y-%m'))\n",
    "df['week_number'] = df['created_at'].dt.strftime('%Y-%U')"
   ]
  },
  {
   "cell_type": "markdown",
   "id": "95dd4ea0",
   "metadata": {},
   "source": [
    "Определим город проживания пользователя по средним для каждого `city` широте и долготе."
   ]
  },
  {
   "cell_type": "code",
   "execution_count": 17,
   "id": "75cf4799",
   "metadata": {},
   "outputs": [],
   "source": [
    "def geo(row):\n",
    "    lat = row['lat']\n",
    "    lon = row['lon']\n",
    "    return geolocator.reverse(\"{}, {}\".format(lat, lon)).raw['address']['city']"
   ]
  },
  {
   "cell_type": "code",
   "execution_count": 18,
   "id": "da67fead",
   "metadata": {},
   "outputs": [
    {
     "data": {
      "text/plain": [
       "city\n",
       "1              Москва\n",
       "2              Казань\n",
       "5     Нижний Новгород\n",
       "7      Ростов-на-Дону\n",
       "8                 Уфа\n",
       "10             Самара\n",
       "13               Омск\n",
       "Name: city, dtype: object"
      ]
     },
     "execution_count": 18,
     "metadata": {},
     "output_type": "execute_result"
    }
   ],
   "source": [
    "d = {'lat': df.groupby('city')['lat'].mean(), 'lon': df.groupby('city')['lon'].mean()}\n",
    "city = pd.DataFrame(d)\n",
    "city['city'] = city.apply(geo, axis=1)\n",
    "city['city']"
   ]
  },
  {
   "cell_type": "code",
   "execution_count": 19,
   "id": "0da8ef28",
   "metadata": {},
   "outputs": [],
   "source": [
    "df['city'] = df['city'].replace({1:'Москва', 2:'Казань', 5:'Нижний Новгород', 7:'Ростов-на-Дону', 8:'Уфа', 10:'Самара', 13:'Омск'})"
   ]
  },
  {
   "cell_type": "code",
   "execution_count": 20,
   "id": "d1fa425c",
   "metadata": {},
   "outputs": [],
   "source": [
    "df['total_cost'] = df['total_cost'].abs()"
   ]
  },
  {
   "cell_type": "markdown",
   "id": "de9be491",
   "metadata": {},
   "source": [
    "## Анализ данных"
   ]
  },
  {
   "cell_type": "markdown",
   "id": "62c3f4ac",
   "metadata": {},
   "source": [
    "#### GMV"
   ]
  },
  {
   "cell_type": "code",
   "execution_count": 21,
   "id": "15d79485",
   "metadata": {},
   "outputs": [
    {
     "data": {
      "image/png": "[encoded data removed]",
      "text/plain": [
       "<Figure size 720x360 with 1 Axes>"
      ]
     },
     "metadata": {
      "needs_background": "light"
     },
     "output_type": "display_data"
    },
    {
     "data": {
      "text/plain": [
       "'КВАРТАЛЬНЫЕ ТЕМПЫ РОСТА GMV СОСТАВИЛИ [108 112 184 157 179] ПРОЦЕНТОВ'"
      ]
     },
     "metadata": {},
     "output_type": "display_data"
    },
    {
     "data": {
      "text/plain": [
       "'ГОДОВОЙ ТЕМП РОСТА GMV СОСТАВИЛ [592] ПРОЦЕНТА'"
      ]
     },
     "execution_count": 21,
     "metadata": {},
     "output_type": "execute_result"
    }
   ],
   "source": [
    "df_gmv = df.query('state == \"shipped\"')\n",
    "df_gmv['created_order_month'] = pd.to_datetime(df_gmv['created_order_month'], format='%Y-%m')\n",
    "df_gmv['item_total'] = df_gmv['item_total']/1000000\n",
    "fig = plt.figure()\n",
    "ax = fig.add_subplot(111)\n",
    "ax.set_ylabel('Суммарная стоимость всех товаров(млн.руб.)')\n",
    "ax = df_gmv.groupby('created_order_month')['item_total'].sum()\n",
    "plt.show(ax.plot(style='o-', grid=True, color='red', figsize=(10,5), title='Динамика валовой стоимости продукции'))\n",
    "quart_growth = ax[[1,4,7,10,13,16]]\n",
    "year_growth = ax[[4,16]]\n",
    "quart_growth\n",
    "quart=[]\n",
    "year=[]\n",
    "for pop in range(1, len(quart_growth)):\n",
    "    gnumbers = quart_growth[pop]/quart_growth[pop-1]*100\n",
    "    quart.append(gnumbers)\n",
    "for pop in range(1, len(year_growth)):\n",
    "    gnumbers = year_growth[pop]/year_growth[pop-1]*100\n",
    "    year.append(gnumbers)\n",
    "quart_gr = pd.DataFrame(data=quart).astype(int)\n",
    "year_gr = pd.DataFrame(data=year).astype(int)\n",
    "display(f'КВАРТАЛЬНЫЕ ТЕМПЫ РОСТА GMV СОСТАВИЛИ {quart_gr[0].values} ПРОЦЕНТОВ')\n",
    "f'ГОДОВОЙ ТЕМП РОСТА GMV СОСТАВИЛ {year_gr.values[0]} ПРОЦЕНТА'"
   ]
  },
  {
   "cell_type": "markdown",
   "id": "7575c4cc",
   "metadata": {},
   "source": [
    "#### Концентрация GMV"
   ]
  },
  {
   "cell_type": "code",
   "execution_count": 22,
   "id": "fe540865",
   "metadata": {},
   "outputs": [
    {
     "data": {
      "text/plain": [
       "'20% НАИБОЛЕЕ АКТИВНЫХ КЛИЕНТОВ ПРИНОСЯТ 68.3% ДОХОДОВ'"
      ]
     },
     "execution_count": 22,
     "metadata": {},
     "output_type": "execute_result"
    }
   ],
   "source": [
    "x = df.groupby('user_id', as_index=False)['item_total'].sum().sort_values(by='item_total', ascending=False).head(51565)\n",
    "top20user_revenue = x['item_total'].sum()\n",
    "gmv_retention = '{:.1%}'.format(top20user_revenue/df['item_total'].sum())\n",
    "f'20% НАИБОЛЕЕ АКТИВНЫХ КЛИЕНТОВ ПРИНОСЯТ {gmv_retention} ДОХОДОВ'"
   ]
  },
  {
   "cell_type": "markdown",
   "id": "2d86f8bd",
   "metadata": {},
   "source": [
    "#### Provider-to-Customer Ratio"
   ]
  },
  {
   "cell_type": "code",
   "execution_count": 23,
   "id": "64d2766f",
   "metadata": {},
   "outputs": [
    {
     "data": {
      "image/png": "[encoded data removed]",
      "text/plain": [
       "<Figure size 432x288 with 1 Axes>"
      ]
     },
     "metadata": {
      "needs_background": "light"
     },
     "output_type": "display_data"
    }
   ],
   "source": [
    "df_store = df.pivot_table(index=['created_order_month'], values='store_id', aggfunc=lambda x: len(x.unique())).reset_index()\n",
    "plt.show(df_store.plot(kind='bar', x='created_order_month', legend=False, title='Кол-во магазинов, сотрудничающих с сервисом'))"
   ]
  },
  {
   "cell_type": "code",
   "execution_count": 24,
   "id": "96fd01cb",
   "metadata": {},
   "outputs": [
    {
     "data": {
      "text/plain": [
       "'В СРЕДНЕМ ОДИН МАГАЗИН ОБСЛУЖИВАЕТ 3631 КЛИЕНТОВ'"
      ]
     },
     "execution_count": 24,
     "metadata": {},
     "output_type": "execute_result"
    }
   ],
   "source": [
    "pcr_store = df.groupby('store_id')['order_id'].count()\n",
    "pcr_user = df.groupby('user_id')['order_id'].count()\n",
    "pcr = '{:.0f}'.format(pcr_store.mean()/pcr_user.mean())\n",
    "f'В СРЕДНЕМ ОДИН МАГАЗИН ОБСЛУЖИВАЕТ {pcr} КЛИЕНТОВ'"
   ]
  },
  {
   "cell_type": "markdown",
   "id": "d36e08fd",
   "metadata": {},
   "source": [
    "#### AOV"
   ]
  },
  {
   "cell_type": "code",
   "execution_count": 25,
   "id": "3789ac4d",
   "metadata": {},
   "outputs": [
    {
     "data": {
      "image/png": "[encoded data removed]",
      "text/plain": [
       "<Figure size 432x288 with 1 Axes>"
      ]
     },
     "metadata": {
      "needs_background": "light"
     },
     "output_type": "display_data"
    }
   ],
   "source": [
    "plt.show(df['item_total'].plot(kind='box', ylim=(0,30000), title='Распределение показателя среднего чека'))"
   ]
  },
  {
   "cell_type": "code",
   "execution_count": 26,
   "id": "5d98f3c3",
   "metadata": {},
   "outputs": [
    {
     "data": {
      "text/html": [
       "<div>\n",
       "<style scoped>\n",
       "    .dataframe tbody tr th:only-of-type {\n",
       "        vertical-align: middle;\n",
       "    }\n",
       "\n",
       "    .dataframe tbody tr th {\n",
       "        vertical-align: top;\n",
       "    }\n",
       "\n",
       "    .dataframe thead th {\n",
       "        text-align: right;\n",
       "    }\n",
       "</style>\n",
       "<table border=\"1\" class=\"dataframe\">\n",
       "  <thead>\n",
       "    <tr style=\"text-align: right;\">\n",
       "      <th></th>\n",
       "      <th>city</th>\n",
       "      <th>item_total</th>\n",
       "    </tr>\n",
       "  </thead>\n",
       "  <tbody>\n",
       "    <tr>\n",
       "      <th>0</th>\n",
       "      <td>Казань</td>\n",
       "      <td>3911.333978</td>\n",
       "    </tr>\n",
       "    <tr>\n",
       "      <th>1</th>\n",
       "      <td>Москва</td>\n",
       "      <td>5500.417856</td>\n",
       "    </tr>\n",
       "    <tr>\n",
       "      <th>2</th>\n",
       "      <td>Нижний Новгород</td>\n",
       "      <td>3915.848159</td>\n",
       "    </tr>\n",
       "    <tr>\n",
       "      <th>3</th>\n",
       "      <td>Омск</td>\n",
       "      <td>3767.313715</td>\n",
       "    </tr>\n",
       "    <tr>\n",
       "      <th>4</th>\n",
       "      <td>Ростов-на-Дону</td>\n",
       "      <td>3689.266566</td>\n",
       "    </tr>\n",
       "    <tr>\n",
       "      <th>5</th>\n",
       "      <td>Самара</td>\n",
       "      <td>3875.444613</td>\n",
       "    </tr>\n",
       "    <tr>\n",
       "      <th>6</th>\n",
       "      <td>Уфа</td>\n",
       "      <td>3871.219688</td>\n",
       "    </tr>\n",
       "  </tbody>\n",
       "</table>\n",
       "</div>"
      ],
      "text/plain": [
       "              city   item_total\n",
       "0           Казань  3911.333978\n",
       "1           Москва  5500.417856\n",
       "2  Нижний Новгород  3915.848159\n",
       "3             Омск  3767.313715\n",
       "4   Ростов-на-Дону  3689.266566\n",
       "5           Самара  3875.444613\n",
       "6              Уфа  3871.219688"
      ]
     },
     "execution_count": 26,
     "metadata": {},
     "output_type": "execute_result"
    }
   ],
   "source": [
    "df.groupby('city', as_index=False)['item_total'].mean()"
   ]
  },
  {
   "cell_type": "markdown",
   "id": "a9e4470d",
   "metadata": {},
   "source": [
    "Большинство показателей равномерно и плотно сгруппированы вокруг медианного значения, поэтому можно смело утверждать, несмотря на выбросы, что средний чек по выборке составляет около 4700 (в регионах - 3900 рублей, в Москве - 5500 рублей). Чем это обусловлено - различиями в потребительской корзине или объемом заказа? Т.к. наименования продуктов заказов не предоставлены в датасете, оттолкнемся от второго показателя."
   ]
  },
  {
   "cell_type": "code",
   "execution_count": 27,
   "id": "d7d811e0",
   "metadata": {},
   "outputs": [
    {
     "data": {
      "image/png": "[encoded data removed]",
      "text/plain": [
       "<Figure size 432x288 with 1 Axes>"
      ]
     },
     "metadata": {
      "needs_background": "light"
     },
     "output_type": "display_data"
    }
   ],
   "source": [
    "plt.show(df.groupby('city')['total_quantity'].mean().plot(kind='bar', title='Среднее количество единиц товара в заказе'))"
   ]
  },
  {
   "cell_type": "markdown",
   "id": "0e1a43bf",
   "metadata": {},
   "source": [
    "Действительно, в Москве в среднем большие объемы заказа ввиду большей покупательской способности, поэтому можно предположить что сами товары в корзинах покупателей из Мск и регионов примерно схожи."
   ]
  },
  {
   "cell_type": "code",
   "execution_count": 28,
   "id": "935fd678",
   "metadata": {},
   "outputs": [
    {
     "data": {
      "image/png": "[encoded data removed]",
      "text/plain": [
       "<Figure size 720x360 with 1 Axes>"
      ]
     },
     "metadata": {
      "needs_background": "light"
     },
     "output_type": "display_data"
    }
   ],
   "source": [
    "ax = df[df['city']=='Москва'].groupby('created_order_month')['item_total'].mean().plot(style='o-', figsize=(10,5), color='red', legend=True)\n",
    "ax_2 = df[df['city']!='Москва'].groupby('created_order_month')['item_total'].mean().plot(style='o-', color='yellow', figsize=(10,5), ax=ax, legend='dsa')\n",
    "AOV = df.groupby('created_order_month')['item_total'].mean().plot(style='o-', figsize=(10,5), ax=ax_2, title='Месячная динамика AOV', legend=True)\n",
    "AOV.legend([\"Москва\", \"Регионы\", \"Итого\"])\n",
    "plt.show(AOV)"
   ]
  },
  {
   "cell_type": "markdown",
   "id": "12297bfc",
   "metadata": {},
   "source": [
    "По графику можно сделать вывод, что первоначальные тренды и доходы компании задавала именно Москва, однако, к февралю 2019 года кривая среднего чека сместилась уже в сторону регионов."
   ]
  },
  {
   "cell_type": "code",
   "execution_count": 29,
   "id": "53234897",
   "metadata": {},
   "outputs": [
    {
     "data": {
      "image/png": "[encoded data removed]",
      "text/plain": [
       "<Figure size 1080x504 with 2 Axes>"
      ]
     },
     "metadata": {
      "needs_background": "light"
     },
     "output_type": "display_data"
    }
   ],
   "source": [
    "fig = plt.figure()\n",
    "ax = fig.add_subplot(111)\n",
    "ax2 = ax.twinx()\n",
    "width = 0.4\n",
    "ax.set_ylabel('Средний чек (тыс.рублей)')\n",
    "ax2.set_ylabel('Среднее кол-во проданных товаров (ед.)')\n",
    "df.groupby('created_order_month')['item_total'].mean().plot(style='o-', color='red', ax=ax)\n",
    "x = df.groupby('created_order_month')['total_quantity'].mean().plot(kind='bar', ax=ax2, alpha=0.5, legend=True, title='Динамика AOV в разрезе среднего кол-ва товаров в заказе', figsize=(15,7), rot=0)\n",
    "\n",
    "plt.show(x)"
   ]
  },
  {
   "cell_type": "markdown",
   "id": "368c36bb",
   "metadata": {},
   "source": [
    "#### Средняя цена единицы продукции"
   ]
  },
  {
   "cell_type": "code",
   "execution_count": 30,
   "id": "b0fcb4c4",
   "metadata": {},
   "outputs": [
    {
     "data": {
      "image/png": "[encoded data removed]",
      "text/plain": [
       "<Figure size 720x360 with 1 Axes>"
      ]
     },
     "metadata": {
      "needs_background": "light"
     },
     "output_type": "display_data"
    },
    {
     "data": {
      "text/plain": [
       "'СРЕДНЯЯ ЦЕНА ЕДИНИЦЫ ПРОДУКЦИИ - 112 РУБЛЕЙ'"
      ]
     },
     "metadata": {},
     "output_type": "display_data"
    },
    {
     "data": {
      "text/plain": [
       "'СТАНДАРТНОЕ ОКТЛОНЕНИЕ - 5 РУБЛЕЙ'"
      ]
     },
     "execution_count": 30,
     "metadata": {},
     "output_type": "execute_result"
    }
   ],
   "source": [
    "avg_price = df[['created_order_month', 'total_quantity', 'item_total']]\n",
    "avg_price = avg_price.pivot_table(index='created_order_month', values=['total_quantity', 'item_total'], aggfunc='sum')\n",
    "avg_price['price_1'] = avg_price['item_total']/avg_price['total_quantity']\n",
    "plt.show(avg_price['price_1'].plot(style='o-', figsize=(10,5), grid=True, title='Средняя цена единицы продукции'))\n",
    "display(f'СРЕДНЯЯ ЦЕНА ЕДИНИЦЫ ПРОДУКЦИИ - {\"{:.0f}\".format(avg_price[\"price_1\"].mean())} РУБЛЕЙ')\n",
    "f'СТАНДАРТНОЕ ОКТЛОНЕНИЕ - {\"{:.0f}\".format(np.std(avg_price[\"price_1\"]))} РУБЛЕЙ'"
   ]
  },
  {
   "cell_type": "markdown",
   "id": "1b991188",
   "metadata": {},
   "source": [
    "#### WAU/MAU и коэффициент \"привязываемости\""
   ]
  },
  {
   "cell_type": "markdown",
   "id": "e4176113",
   "metadata": {},
   "source": [
    "Рассмотрим показатель периодичности взаимодействия с сервисом наших уникальных клиентов."
   ]
  },
  {
   "cell_type": "code",
   "execution_count": 31,
   "id": "af098fc7",
   "metadata": {},
   "outputs": [
    {
     "data": {
      "image/png": "[encoded data removed]",
      "text/plain": [
       "<Figure size 720x360 with 1 Axes>"
      ]
     },
     "metadata": {
      "needs_background": "light"
     },
     "output_type": "display_data"
    },
    {
     "data": {
      "text/plain": [
       "'СРЕДНИЙ ПОКАЗАТЕЛЬ WAU РАВЕН - 9168 КЛИЕНТОВ'"
      ]
     },
     "execution_count": 31,
     "metadata": {},
     "output_type": "execute_result"
    }
   ],
   "source": [
    "df_wau = df.pivot_table(index='week_number', values='user_id', aggfunc=lambda x: len(x.unique()))\n",
    "plt.show(df_wau.plot(style='o-', figsize=(10,5), title='Динамика WAU', legend=False, grid=True))\n",
    "wau = '{:.0f}'.format(df_wau[\"user_id\"].mean())\n",
    "f'СРЕДНИЙ ПОКАЗАТЕЛЬ WAU РАВЕН - {wau} КЛИЕНТОВ'"
   ]
  },
  {
   "cell_type": "code",
   "execution_count": 32,
   "id": "15edefa2",
   "metadata": {},
   "outputs": [
    {
     "data": {
      "image/png": "[encoded data removed]",
      "text/plain": [
       "<Figure size 720x360 with 1 Axes>"
      ]
     },
     "metadata": {
      "needs_background": "light"
     },
     "output_type": "display_data"
    },
    {
     "data": {
      "text/plain": [
       "'СРЕДНИЙ ПОКАЗАТЕЛЬ MAU РАВЕН - 27570 КЛИЕНТОВ'"
      ]
     },
     "execution_count": 32,
     "metadata": {},
     "output_type": "execute_result"
    }
   ],
   "source": [
    "df_mau = df.pivot_table(index='created_order_month', values='user_id', aggfunc=lambda x: len(x.unique()))\n",
    "plt.show(df_mau.plot(style='o-', figsize=(10,5), title='Динамика MAU', legend=False, grid=True))\n",
    "mau = '{:.0f}'.format(df_mau[\"user_id\"].mean())\n",
    "f'СРЕДНИЙ ПОКАЗАТЕЛЬ MAU РАВЕН - {mau} КЛИЕНТОВ'"
   ]
  },
  {
   "cell_type": "markdown",
   "id": "afd52caf",
   "metadata": {},
   "source": [
    "И WAU и DAU отражают ту же картину, что и динамика среднего чека - заметный рост к концу 2019 года. Это значит, что средний чек увеличился именно из за увеличения активных пользователей сервиса."
   ]
  },
  {
   "cell_type": "code",
   "execution_count": 33,
   "id": "a9cdf9e4",
   "metadata": {},
   "outputs": [
    {
     "data": {
      "text/plain": [
       "'КОЭФФИЦИЕНТ \"ПРИВЯЗЫВАЕМОСТИ\" РАВЕН - 33.3%'"
      ]
     },
     "execution_count": 33,
     "metadata": {},
     "output_type": "execute_result"
    }
   ],
   "source": [
    "coef = '{:.1%}'.format(df_wau[\"user_id\"].mean()/df_mau[\"user_id\"].mean())\n",
    "f'КОЭФФИЦИЕНТ \"ПРИВЯЗЫВАЕМОСТИ\" РАВЕН - {coef}'"
   ]
  },
  {
   "cell_type": "markdown",
   "id": "090e1022",
   "metadata": {},
   "source": [
    "Показатель более 30% является довольно успешным результатом и отражает положительную динамику ежемесячных клиентов, которые взаимодействуют с продуктом в течение недели."
   ]
  },
  {
   "cell_type": "markdown",
   "id": "34959c9b",
   "metadata": {},
   "source": [
    "#### RPR и PF"
   ]
  },
  {
   "cell_type": "code",
   "execution_count": 34,
   "id": "d1a1e870",
   "metadata": {},
   "outputs": [
    {
     "data": {
      "image/png": "[encoded data removed]",
      "text/plain": [
       "<Figure size 432x288 with 1 Axes>"
      ]
     },
     "metadata": {
      "needs_background": "light"
     },
     "output_type": "display_data"
    },
    {
     "data": {
      "text/plain": [
       "'ЛИШЬ 10% ПОЛЬЗОВАТЕЛЕЙ ОФОРМИЛИ БОЛЕЕ 6 ТОВАРОВ'"
      ]
     },
     "execution_count": 34,
     "metadata": {},
     "output_type": "execute_result"
    }
   ],
   "source": [
    "orders = df.groupby('user_id')['order_id'].count()\n",
    "plt.show(orders.plot(kind='hist', bins=50, range=(0,25)))\n",
    "f'ЛИШЬ 10% ПОЛЬЗОВАТЕЛЕЙ ОФОРМИЛИ БОЛЕЕ {orders.quantile(.9).astype(int)} ТОВАРОВ'"
   ]
  },
  {
   "cell_type": "markdown",
   "id": "ff55be70",
   "metadata": {},
   "source": [
    "Большинство пользователей оформило лишь 1 заказ, в среднем же менее 7. Определим частоту и показатель повторных покупок для определения заинтересованности клиентской базы."
   ]
  },
  {
   "cell_type": "code",
   "execution_count": 35,
   "id": "22bc6cfd",
   "metadata": {},
   "outputs": [
    {
     "data": {
      "image/png": "[encoded data removed]",
      "text/plain": [
       "<Figure size 720x360 with 1 Axes>"
      ]
     },
     "metadata": {
      "needs_background": "light"
     },
     "output_type": "display_data"
    },
    {
     "data": {
      "text/plain": [
       "'СРЕДНИЙ ПОКАЗАТЕЛЬ PF: 1.5'"
      ]
     },
     "execution_count": 35,
     "metadata": {},
     "output_type": "execute_result"
    }
   ],
   "source": [
    "pf = df[['user_id', 'order_id', 'created_order_month']]\n",
    "purchases = pf.pivot_table(index='created_order_month', values='order_id', aggfunc='count') \n",
    "clients = pf.pivot_table(index='created_order_month', values='user_id', aggfunc=lambda x: len(x.unique()))\n",
    "pf_df = purchases.join(clients)\n",
    "pf_df['pf'] = pf_df['order_id']/pf_df['user_id']\n",
    "plt.show(pf_df['pf'].plot(style='o-', figsize=(10,5), title='Динамика распределения Purchase Frequency'))\n",
    "avg_pf = '{:.1f}'.format(pf_df[\"pf\"].mean())\n",
    "f'СРЕДНИЙ ПОКАЗАТЕЛЬ PF: {avg_pf}'"
   ]
  },
  {
   "cell_type": "markdown",
   "id": "88da62e4",
   "metadata": {},
   "source": [
    "В среднем в месяц клиенты оформляют 1.5 покупки."
   ]
  },
  {
   "cell_type": "code",
   "execution_count": 36,
   "id": "0a4ce759",
   "metadata": {},
   "outputs": [
    {
     "data": {
      "text/plain": [
       "'ПОКАЗАТЕЛЬ RPR СОСТАВЛЯЕТ: 43.9%'"
      ]
     },
     "execution_count": 36,
     "metadata": {},
     "output_type": "execute_result"
    }
   ],
   "source": [
    "orders = orders.reset_index()\n",
    "repeat_orders = orders[orders['order_id']>1]['user_id'].count()\n",
    "all_orders = orders['order_id'].count()\n",
    "RPR = '{:.1%}'.format(repeat_orders/all_orders)\n",
    "f'ПОКАЗАТЕЛЬ RPR СОСТАВЛЯЕТ: {RPR}'"
   ]
  },
  {
   "cell_type": "markdown",
   "id": "e6bae947",
   "metadata": {},
   "source": [
    "#### Проблема отсутствия товаров"
   ]
  },
  {
   "cell_type": "code",
   "execution_count": 37,
   "id": "77167105",
   "metadata": {},
   "outputs": [
    {
     "data": {
      "text/plain": [
       "'ДОЛЯ КЛИЕНТОВ ОФОРМИВШИХ ЛИШЬ 1 ЗАКАЗ СТОЛКНУЛИСЬ С ПРОБЛЕМОЙ ОТСУТСТВИЯ ИСКОМОГО ТОВАРА В МАГАЗИНЕ В 72.8% СЛУЧАЕВ'"
      ]
     },
     "execution_count": 37,
     "metadata": {},
     "output_type": "execute_result"
    }
   ],
   "source": [
    "fail_clients = orders[orders['order_id'] == 1]\n",
    "fail_clients = fail_clients.merge(df[['user_id', 'replacements_count', 'cancellations_count', 'total_quantity']], on='user_id', how='left')\n",
    "replace_cancel = fail_clients[fail_clients['replacements_count'].notna() | fail_clients['cancellations_count'].notna()]\n",
    "fail_percent = '{:.1%}'.format(replace_cancel['user_id'].count()/fail_clients['user_id'].count())\n",
    "f'ДОЛЯ КЛИЕНТОВ ОФОРМИВШИХ ЛИШЬ 1 ЗАКАЗ СТОЛКНУЛИСЬ С ПРОБЛЕМОЙ ОТСУТСТВИЯ ИСКОМОГО ТОВАРА В МАГАЗИНЕ В {fail_percent} СЛУЧАЕВ'"
   ]
  },
  {
   "cell_type": "markdown",
   "id": "d01b2b15",
   "metadata": {},
   "source": [
    "Действительно, основная проблема кроется в неудовлетворенности клиентов из-за проблем с отсутствием того или иного товара в магазине."
   ]
  },
  {
   "cell_type": "code",
   "execution_count": 38,
   "id": "90de8e36",
   "metadata": {},
   "outputs": [
    {
     "data": {
      "text/plain": [
       "'СРЕДНЕЕ КОЛИЧЕСТВО ОТСУТСТВУЮЩИХ ТОВАРОВ В ОДНОМ ЗАКАЗЕ 11.4%'"
      ]
     },
     "execution_count": 38,
     "metadata": {},
     "output_type": "execute_result"
    }
   ],
   "source": [
    "fail_clients['replacements_count'] = fail_clients['replacements_count'].fillna(0)\n",
    "fail_clients['cancellations_count'] = fail_clients['cancellations_count'].fillna(0)\n",
    "fail_clients = fail_clients[fail_clients['total_quantity']>0]\n",
    "fail_clients['ratio'] = (fail_clients['cancellations_count']+fail_clients['replacements_count'])/fail_clients['total_quantity']\n",
    "f'СРЕДНЕЕ КОЛИЧЕСТВО ОТСУТСТВУЮЩИХ ТОВАРОВ В ОДНОМ ЗАКАЗЕ {\"{:.1%}\".format(fail_clients[\"ratio\"].mean())}'"
   ]
  },
  {
   "cell_type": "markdown",
   "id": "966e43c1",
   "metadata": {},
   "source": [
    "Более 10% товаров в заказе отсутствует, поэтому на выходе и получаются такие низкие показатели повторных покупок."
   ]
  },
  {
   "cell_type": "markdown",
   "id": "f17d233c",
   "metadata": {},
   "source": [
    "Можем теперь проанализировать источники таких товаров. Определим в каких магазинах и у каких ритейлеров самые высокие относительные показатели замен и отмен товара."
   ]
  },
  {
   "cell_type": "code",
   "execution_count": 39,
   "id": "289e9cf1",
   "metadata": {},
   "outputs": [],
   "source": [
    "store_retailer_cancel = df[['store_id', 'retailer_id', 'replacements_count', 'cancellations_count', 'total_quantity']]\n",
    "store_retailer_cancel['replacements_count'] = store_retailer_cancel['replacements_count'].fillna(0)\n",
    "store_retailer_cancel['cancellations_count'] = store_retailer_cancel['cancellations_count'].fillna(0)\n",
    "store_retailer_cancel['cancel_and_replace'] = store_retailer_cancel[\n",
    "    'replacements_count']+store_retailer_cancel['cancellations_count'\n",
    "                                               ]"
   ]
  },
  {
   "cell_type": "code",
   "execution_count": 40,
   "id": "e860cfc5",
   "metadata": {},
   "outputs": [
    {
     "data": {
      "image/png": "[encoded data removed]",
      "text/plain": [
       "<Figure size 720x360 with 2 Axes>"
      ]
     },
     "metadata": {
      "needs_background": "light"
     },
     "output_type": "display_data"
    }
   ],
   "source": [
    "fig = plt.figure()\n",
    "\n",
    "ax = fig.add_subplot(111)\n",
    "ax2 = ax.twinx()\n",
    "width = 0.4\n",
    "ax.set_ylabel('Кол-во проданных товаров(тыс.ед.)')\n",
    "ax2.set_ylabel('Кол-во отсутствующих товаров')\n",
    "store_retailer_cancel.groupby('store_id')['total_quantity'].sum().plot(kind='bar', color='blue', ax=ax, width=width, position=1)\n",
    "plt.show(store_retailer_cancel.groupby('store_id')['cancel_and_replace'].sum().sort_values(ascending=False).head(15).plot(\n",
    "    kind='bar', color='red', title='Относительные показатели остутствующих товаров по магазинам', figsize=(10,5), ax=ax2, width=width, position=0)\n",
    "        )"
   ]
  },
  {
   "cell_type": "markdown",
   "id": "99d55600",
   "metadata": {},
   "source": [
    "Определим магазины в которых наблюдаются самые высокие разрывы между проблемными товарами и общим количеством проданной продукции. Такими ненадежными магазинами явяются магазины с id: 1, 10, 9, 68 и 105. С этими магазинами требуется провести дополнительную работу по оптимизации качества обслуживания."
   ]
  },
  {
   "cell_type": "markdown",
   "id": "245bdbd5",
   "metadata": {},
   "source": [
    "Проведем ту же процедуру по ритейлерам."
   ]
  },
  {
   "cell_type": "code",
   "execution_count": 41,
   "id": "7e36d406",
   "metadata": {},
   "outputs": [
    {
     "data": {
      "text/plain": [
       "array([1], dtype=int64)"
      ]
     },
     "execution_count": 41,
     "metadata": {},
     "output_type": "execute_result"
    }
   ],
   "source": [
    "retailers = store_retailer_cancel.query('store_id in [1, 9, 10, 68, 105]')\n",
    "retailers['retailer_id'].unique()"
   ]
  },
  {
   "cell_type": "markdown",
   "id": "1981173a",
   "metadata": {},
   "source": [
    "Получаем, что все 'проблемные' магазины принадлежат ритейлеру под id 1."
   ]
  },
  {
   "cell_type": "markdown",
   "id": "4a986d43",
   "metadata": {},
   "source": [
    "#### Lifetime"
   ]
  },
  {
   "cell_type": "markdown",
   "id": "eedb7277",
   "metadata": {},
   "source": [
    "Определим сколько в среднем клиент взаимодействует с сервисом."
   ]
  },
  {
   "cell_type": "code",
   "execution_count": 42,
   "id": "12ec250c",
   "metadata": {},
   "outputs": [],
   "source": [
    "df['created_order_month'] = pd.to_datetime(df['created_order_month'], format='%Y-%m')\n",
    "lifetime = df[['user_id', 'created_order_month']]\n",
    "min = lifetime.groupby('user_id', as_index=False)['created_order_month'].min()\n",
    "max = lifetime.groupby('user_id', as_index=False)['created_order_month'].max()\n",
    "lf = min.merge(max, on='user_id')\n",
    "lf['lifetime'] = (lf['created_order_month_y'] - lf['created_order_month_x'])\n",
    "lf['lf'] = lf['lifetime'].dt.days\n",
    "lf['lf'] = lf['lf'] + 1\n",
    "lifetime_values = lf[lf['lf']>1]"
   ]
  },
  {
   "cell_type": "code",
   "execution_count": 43,
   "id": "29a112cf",
   "metadata": {},
   "outputs": [
    {
     "data": {
      "image/png": "[encoded data removed]",
      "text/plain": [
       "<Figure size 432x288 with 1 Axes>"
      ]
     },
     "metadata": {
      "needs_background": "light"
     },
     "output_type": "display_data"
    },
    {
     "data": {
      "text/plain": [
       "'СРЕДНЕЕ КОЛ-ВО ДНЕЙ, КОТОРОЕ КЛИЕНТ ПОЛЬЗОВАЛСЯ СЕРВИСОМ - 123 ДНЕЙ'"
      ]
     },
     "execution_count": 43,
     "metadata": {},
     "output_type": "execute_result"
    }
   ],
   "source": [
    "plt.show(lifetime_values['lf'].plot(kind='hist', bins=50, grid=True, title='Кол-во дней, которые клиент провел в сервисе'))\n",
    "avg_lf = '{:.0f}'.format(lifetime_values['lf'].mean())\n",
    "f'СРЕДНЕЕ КОЛ-ВО ДНЕЙ, КОТОРОЕ КЛИЕНТ ПОЛЬЗОВАЛСЯ СЕРВИСОМ - {avg_lf} ДНЕЙ'"
   ]
  },
  {
   "cell_type": "markdown",
   "id": "fbc4d725",
   "metadata": {},
   "source": [
    "#### LTV"
   ]
  },
  {
   "cell_type": "markdown",
   "id": "20b2a348",
   "metadata": {},
   "source": [
    "Теперь у нас есть все данные для расчет важнейшего показателя LTV. Расчет среднего LTV идет по формуле: `LTV = средний чек Х число заказов от одного клиента в месяц Х сколько месяцев клиент пользуется услугами`"
   ]
  },
  {
   "cell_type": "code",
   "execution_count": 44,
   "id": "9de54e32",
   "metadata": {},
   "outputs": [
    {
     "data": {
      "text/plain": [
       "'ЗА ВЕСЬ ПЕРИОД СВОЕЙ АКТИВНОСТИ В СЕРВИСЕ СРЕДНИЙ КЛИЕНТ ПРИНОСИТ 28200 РУБЛЕЙ'"
      ]
     },
     "execution_count": 44,
     "metadata": {},
     "output_type": "execute_result"
    }
   ],
   "source": [
    "f'ЗА ВЕСЬ ПЕРИОД СВОЕЙ АКТИВНОСТИ В СЕРВИСЕ СРЕДНИЙ КЛИЕНТ ПРИНОСИТ {\"{:.0f}\".format(4700*1.5*4)} РУБЛЕЙ'"
   ]
  },
  {
   "cell_type": "markdown",
   "id": "9266791b",
   "metadata": {},
   "source": [
    "Посмотрим какой процент клиентов привносит больше среднего."
   ]
  },
  {
   "cell_type": "code",
   "execution_count": 45,
   "id": "72ba4330",
   "metadata": {},
   "outputs": [],
   "source": [
    "def ratio (row):\n",
    "    if row['item_total']>28200:\n",
    "        return 1\n",
    "    else:\n",
    "        return 0"
   ]
  },
  {
   "cell_type": "code",
   "execution_count": 46,
   "id": "02738fbb",
   "metadata": {},
   "outputs": [],
   "source": [
    "ltv_ratio = df.groupby('user_id', as_index=False)['item_total'].sum()\n",
    "ltv_ratio['ratio'] = ltv_ratio.apply(ratio, axis=1)"
   ]
  },
  {
   "cell_type": "code",
   "execution_count": 47,
   "id": "a8eeab94",
   "metadata": {},
   "outputs": [
    {
     "data": {
      "text/plain": [
       "'КОЛИЧЕСТВО ПОТЕНЦИАЛЬНО ЛОЯЛЬНЫХ КЛИЕНТОВ - 10.5%'"
      ]
     },
     "execution_count": 47,
     "metadata": {},
     "output_type": "execute_result"
    }
   ],
   "source": [
    "loyalty = '{:.1%}'.format(ltv_ratio['ratio'].sum()/ltv_ratio['ratio'].count())\n",
    "f'КОЛИЧЕСТВО ПОТЕНЦИАЛЬНО ЛОЯЛЬНЫХ КЛИЕНТОВ - {loyalty}'"
   ]
  },
  {
   "cell_type": "markdown",
   "id": "47f79a5c",
   "metadata": {},
   "source": [
    "#### Качество услуг доставки"
   ]
  },
  {
   "cell_type": "code",
   "execution_count": 48,
   "id": "28710f48",
   "metadata": {},
   "outputs": [],
   "source": [
    "df['avg_time'] = df['shipped_at'] - df['created_at']\n",
    "def avg_time(td):\n",
    "    return td.seconds//3600\n",
    "df['avg_time'] = df['avg_time'].apply(avg_time)"
   ]
  },
  {
   "cell_type": "code",
   "execution_count": 49,
   "id": "7dcb7277",
   "metadata": {},
   "outputs": [
    {
     "data": {
      "image/png": "[encoded data removed]",
      "text/plain": [
       "<Figure size 1080x504 with 2 Axes>"
      ]
     },
     "metadata": {
      "needs_background": "light"
     },
     "output_type": "display_data"
    }
   ],
   "source": [
    "fig = plt.figure()\n",
    "ax = fig.add_subplot(111)\n",
    "ax2 = ax.twinx()\n",
    "width = 0.4\n",
    "ax.set_ylabel('Кол-во выполненных заказов (ед.)')\n",
    "ax2.set_ylabel('Суммарная выручка (100 млн. руб.)')\n",
    "df.groupby('avg_time')['order_id'].count().plot(kind='bar', ax=ax, alpha=0.5)\n",
    "x = df.groupby('avg_time')['item_total'].sum().plot(style='o-', ax=ax2, label='Валовая стоимость продукции', title='Соотношение выполненных заказов и суммарной выручки по часам', legend=True, figsize=(15,7))\n",
    "plt.show(x)"
   ]
  },
  {
   "cell_type": "markdown",
   "id": "99682708",
   "metadata": {},
   "source": [
    "Своевременная доставка - ключевой момент должного сервиса, тем более в Сбермаркет заявлены временные слоты для подбора оптимального времени доставки. Проверим, не нарушается ли соотношение заявленного и фактического времени доставки."
   ]
  },
  {
   "cell_type": "code",
   "execution_count": 50,
   "id": "9961483e",
   "metadata": {},
   "outputs": [],
   "source": [
    "delivery = df[['shipped_at', 'delivery_window_id', 'starts_at', 'ends_at', 'store_id', 'retailer_id']]"
   ]
  },
  {
   "cell_type": "code",
   "execution_count": 51,
   "id": "3be80ca3",
   "metadata": {},
   "outputs": [],
   "source": [
    "def del_quality (row):\n",
    "    shipped = row['shipped_at']\n",
    "    start = row['starts_at']\n",
    "    end = row['ends_at']\n",
    "    if shipped<start:\n",
    "        return 'Слишком рано'\n",
    "    elif shipped>end:\n",
    "        return 'Слишком поздно'\n",
    "    else:\n",
    "        return 'Вовремя'"
   ]
  },
  {
   "cell_type": "code",
   "execution_count": 52,
   "id": "5d0bb576",
   "metadata": {},
   "outputs": [],
   "source": [
    "delivery['quality'] = delivery.apply(del_quality, axis=1)"
   ]
  },
  {
   "cell_type": "code",
   "execution_count": 53,
   "id": "46ba319d",
   "metadata": {},
   "outputs": [
    {
     "data": {
      "image/png": "[encoded data removed]",
      "text/plain": [
       "<Figure size 360x360 with 1 Axes>"
      ]
     },
     "metadata": {},
     "output_type": "display_data"
    }
   ],
   "source": [
    "plt.show(\n",
    "    delivery['quality'].value_counts().plot(kind='pie', title='Когда была совершена доставка?', autopct='%1.1f%%', figsize=(5,5))\n",
    ")"
   ]
  },
  {
   "cell_type": "markdown",
   "id": "40f5a16a",
   "metadata": {},
   "source": [
    "Более чем в 25% случаев доставка была совершена невовремя. Необходимо определить источник таких задержек (или наоборот). Посмотрим на распределение ошибочных доставок по ритейлерам и магазинам."
   ]
  },
  {
   "cell_type": "code",
   "execution_count": 54,
   "id": "99dc14ae",
   "metadata": {},
   "outputs": [
    {
     "data": {
      "text/plain": [
       "retailer_id\n",
       "1     156076\n",
       "8      15063\n",
       "15     13645\n",
       "16      1448\n",
       "Name: quality, dtype: int64"
      ]
     },
     "metadata": {},
     "output_type": "display_data"
    },
    {
     "data": {
      "text/plain": [
       "store_id\n",
       "1     15786\n",
       "14    14895\n",
       "8     11682\n",
       "11    10999\n",
       "12    10380\n",
       "Name: quality, dtype: int64"
      ]
     },
     "execution_count": 54,
     "metadata": {},
     "output_type": "execute_result"
    }
   ],
   "source": [
    "store_quality = delivery.query('quality != \"Вовремя\"')\n",
    "qual = store_quality.pivot_table(index=['retailer_id', 'store_id'], values='quality', aggfunc='count').reset_index()\n",
    "display(qual.groupby('retailer_id')['quality'].sum().head())\n",
    "qual.groupby('store_id')['quality'].sum().sort_values(ascending=False).head()"
   ]
  },
  {
   "cell_type": "markdown",
   "id": "8feedd17",
   "metadata": {},
   "source": [
    "Снова отличается ритейлер №1, в особенности со своим 1 id магазина."
   ]
  },
  {
   "cell_type": "markdown",
   "id": "f1c1d9e8",
   "metadata": {},
   "source": [
    "Для полноты оценки качества доставки, посмотрим на сколько в среднем доставка опережает или опаздывает к заявленному времени."
   ]
  },
  {
   "cell_type": "code",
   "execution_count": 55,
   "id": "9521e3b7",
   "metadata": {},
   "outputs": [
    {
     "data": {
      "text/plain": [
       "'СРЕДНЕЕ ВРЕМЯ ЗАДЕРЖКИ ДОСТАВКИ 0 days 01:36:24.986657641'"
      ]
     },
     "metadata": {},
     "output_type": "display_data"
    },
    {
     "data": {
      "text/plain": [
       "'СРЕДНЕЕ ВРЕМЯ ОПЕРЕЖЕНИЯ ДОСТАВКИ 0 days 01:03:37.152594233'"
      ]
     },
     "execution_count": 55,
     "metadata": {},
     "output_type": "execute_result"
    }
   ],
   "source": [
    "store_quality_late = store_quality.query('quality == \"Слишком поздно\"')\n",
    "store_quality_late['late_time'] = store_quality_late['shipped_at'] - store_quality_late['ends_at']\n",
    "display(f'СРЕДНЕЕ ВРЕМЯ ЗАДЕРЖКИ ДОСТАВКИ {store_quality_late[\"late_time\"].mean()}')\n",
    "store_quality_early = store_quality.query('quality == \"Слишком рано\"')\n",
    "store_quality_early['early_time'] = store_quality_early['starts_at'] - store_quality_early['shipped_at']\n",
    "f'СРЕДНЕЕ ВРЕМЯ ОПЕРЕЖЕНИЯ ДОСТАВКИ {store_quality_early[\"early_time\"].mean()}'"
   ]
  },
  {
   "cell_type": "markdown",
   "id": "406a256b",
   "metadata": {},
   "source": [
    "В среднем более чем на час ошибается доставка, не попадая в заявленные слоты."
   ]
  },
  {
   "cell_type": "markdown",
   "id": "5957032b",
   "metadata": {},
   "source": [
    "## Проверка гипотез"
   ]
  },
  {
   "cell_type": "markdown",
   "id": "00e20eac",
   "metadata": {},
   "source": [
    "Проверим гипотезы о влиянии промокодов на увеличение среднего чека и количество заказанной продукции. Учитывая объем выборки, можно смело предположить равенство выборочных средних и использовать для проверки гипотез параметрический t-тест Стьюдента."
   ]
  },
  {
   "cell_type": "code",
   "execution_count": 56,
   "id": "90e30be7",
   "metadata": {},
   "outputs": [
    {
     "data": {
      "image/png": "[encoded data removed]",
      "text/plain": [
       "<Figure size 432x288 with 1 Axes>"
      ]
     },
     "metadata": {
      "needs_background": "light"
     },
     "output_type": "display_data"
    },
    {
     "data": {
      "image/png": "[encoded data removed]",
      "text/plain": [
       "<Figure size 432x288 with 1 Axes>"
      ]
     },
     "metadata": {
      "needs_background": "light"
     },
     "output_type": "display_data"
    },
    {
     "data": {
      "text/plain": [
       "'СРЕДНИЙ ЧЕК ЗАКАЗОВ С ИСПОЛЬЗОВАННЫМИ ПРОМОКОДАМИ НА ДОСТАВКУ - 4198 РУБЛЕЙ'"
      ]
     },
     "metadata": {},
     "output_type": "display_data"
    },
    {
     "data": {
      "text/plain": [
       "'СРЕДНИЙ ЧЕК ЗАКАЗОВ БЕЗ ИСПОЛЬЗОВАНИЯ ПРОМОКОДОВ НА ДОСТАВКУ - 5820 РУБЛЕЙ'"
      ]
     },
     "execution_count": 56,
     "metadata": {},
     "output_type": "execute_result"
    }
   ],
   "source": [
    "df_discount = df.query('cost!=total_cost')\n",
    "df_no_discount = df.query('cost==total_cost')\n",
    "plt.show(df_discount['item_total'].hist(range=(0, 10000)))\n",
    "plt.show(df_no_discount['item_total'].hist(range=(0, 10000)))\n",
    "avg_disc = '{:.0f}'.format(df_discount['item_total'].mean())\n",
    "avg_ndisc = '{:.0f}'.format(df_no_discount['item_total'].mean())\n",
    "display(f'СРЕДНИЙ ЧЕК ЗАКАЗОВ С ИСПОЛЬЗОВАННЫМИ ПРОМОКОДАМИ НА ДОСТАВКУ - {avg_disc} РУБЛЕЙ')\n",
    "f'СРЕДНИЙ ЧЕК ЗАКАЗОВ БЕЗ ИСПОЛЬЗОВАНИЯ ПРОМОКОДОВ НА ДОСТАВКУ - {avg_ndisc} РУБЛЕЙ'"
   ]
  },
  {
   "cell_type": "markdown",
   "id": "c808ae74",
   "metadata": {},
   "source": [
    "Разница почти в 2000 рублей. Совпадение или статистически значимый результат?"
   ]
  },
  {
   "cell_type": "markdown",
   "id": "93c53c30",
   "metadata": {},
   "source": [
    "1. Проверка гипотезы о влиянии промокода на доставку на средний чек заказа.\n",
    "\n",
    "- 0-я гипотеза: различий между средними чеками клиентов с промокодами на доставку и без не имеется.\n",
    "- Альтернативная гипотеза: существуют различия между средними чеками клиентов с промокодами на доставку и без. "
   ]
  },
  {
   "cell_type": "code",
   "execution_count": 57,
   "id": "c638a359",
   "metadata": {},
   "outputs": [
    {
     "data": {
      "text/plain": [
       "'Statistics=-144.804, p=0.000'"
      ]
     },
     "metadata": {},
     "output_type": "display_data"
    },
    {
     "data": {
      "text/plain": [
       "'Верна альтернативная гипотеза. Существуют различия между средними чеками клиентов с промокодами на доставку и без'"
      ]
     },
     "metadata": {},
     "output_type": "display_data"
    }
   ],
   "source": [
    "stat, p = st.ttest_ind(df_discount['item_total'], df_no_discount['item_total'])\n",
    "display('Statistics=%.3f, p=%.3f' % (stat, p))\n",
    "alpha = 0.05\n",
    "if p > alpha:\n",
    "    display('Верна 0-я гипотеза. Различий между средними чеками клиентов с промокодами на доставку и без не имеется')\n",
    "else:\n",
    "    display('Верна альтернативная гипотеза. Существуют различия между средними чеками клиентов с промокодами на доставку и без')"
   ]
  },
  {
   "cell_type": "markdown",
   "id": "b61609e9",
   "metadata": {},
   "source": [
    "2. Проверка гипотезы о влиянии промокода на товары в корзине на количество элементов заказа.\n",
    "\n",
    "- 0-я гипотеза: различий между количеством элементов заказа с промокодом на товары и без не имеется.\n",
    "- Альтернативная гипотеза: существуют различия между количеством элементов заказа с промокодом на товары и без. "
   ]
  },
  {
   "cell_type": "code",
   "execution_count": 58,
   "id": "7c951317",
   "metadata": {},
   "outputs": [
    {
     "data": {
      "image/png": "[encoded data removed]",
      "text/plain": [
       "<Figure size 432x288 with 1 Axes>"
      ]
     },
     "metadata": {
      "needs_background": "light"
     },
     "output_type": "display_data"
    },
    {
     "data": {
      "image/png": "[encoded data removed]",
      "text/plain": [
       "<Figure size 432x288 with 1 Axes>"
      ]
     },
     "metadata": {
      "needs_background": "light"
     },
     "output_type": "display_data"
    },
    {
     "data": {
      "text/plain": [
       "'Statistics=-9.110, p=0.000'"
      ]
     },
     "metadata": {},
     "output_type": "display_data"
    },
    {
     "data": {
      "text/plain": [
       "'Верна альтернативная гипотеза. Существуют различия между количеством элементов заказа с промокодом на товары и без'"
      ]
     },
     "metadata": {},
     "output_type": "display_data"
    }
   ],
   "source": [
    "df_discount = df.query('promo_total!=0')\n",
    "df_no_discount = df.query('promo_total==0')\n",
    "plt.show(df_discount['total_quantity'].hist(bins=50, range=(0, 250)))\n",
    "plt.show(df_no_discount['total_quantity'].hist(bins=50, range=(0, 250)))\n",
    "stat, p = st.ttest_ind(df_discount['total_quantity'], df_no_discount['total_quantity'])\n",
    "display('Statistics=%.3f, p=%.3f' % (stat, p))\n",
    "alpha = 0.05\n",
    "if p > alpha:\n",
    "    display('Верна 0-я гипотеза. Различий между количеством элементов заказа с промокодом на товары и без не имеется')\n",
    "else:\n",
    "    display('Верна альтернативная гипотеза. Существуют различия между количеством элементов заказа с промокодом на товары и без')"
   ]
  },
  {
   "cell_type": "markdown",
   "id": "a62f0eaa",
   "metadata": {},
   "source": [
    "Здесь уже разница несколько меньше, но тем не менее статистически важные отличия между заказами с промокодами на товары и без них имеются."
   ]
  }
 ],
 "metadata": {
  "kernelspec": {
   "display_name": "Python 3 (ipykernel)",
   "language": "python",
   "name": "python3"
  },
  "language_info": {
   "codemirror_mode": {
    "name": "ipython",
    "version": 3
   },
   "file_extension": ".py",
   "mimetype": "text/x-python",
   "name": "python",
   "nbconvert_exporter": "python",
   "pygments_lexer": "ipython3",
   "version": "3.9.7"
  }
 },
 "nbformat": 4,
 "nbformat_minor": 5
}
